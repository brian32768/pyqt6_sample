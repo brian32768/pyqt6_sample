{
 "cells": [
  {
   "cell_type": "code",
   "execution_count": 1,
   "metadata": {},
   "outputs": [
    {
     "name": "stdout",
     "output_type": "stream",
     "text": [
      "GIS @ https://delta.co.clatsop.or.us/portal version:9.2\n"
     ]
    }
   ],
   "source": [
    "from arcgis.gis import GIS\n",
    "import pprint\n",
    "server=\"https://delta.co.clatsop.or.us/portal\"\n",
    "gis = GIS(server, \"bwilson@CLATSOP\", \"This machine fights fascists\")\n",
    "pprint.pprint(gis)"
   ]
  },
  {
   "cell_type": "code",
   "execution_count": 12,
   "metadata": {},
   "outputs": [
    {
     "name": "stdout",
     "output_type": "stream",
     "text": [
      "<Item title:\"comm_gdb\" type:Feature Layer Collection owner:bwilson@CLATSOP>\n"
     ]
    }
   ],
   "source": [
    "feature_service_url = \"https://delta.co.clatsop.or.us/server/rest/services/Hosted/comm_gdb/FeatureServer\"\n",
    "item = gis.content.search(feature_service_url)[0]\n",
    "pprint.pprint(item)"
   ]
  }
 ],
 "metadata": {
  "kernelspec": {
   "display_name": "arcgis_tools",
   "language": "python",
   "name": "python3"
  },
  "language_info": {
   "codemirror_mode": {
    "name": "ipython",
    "version": 3
   },
   "file_extension": ".py",
   "mimetype": "text/x-python",
   "name": "python",
   "nbconvert_exporter": "python",
   "pygments_lexer": "ipython3",
   "version": "3.9.18"
  }
 },
 "nbformat": 4,
 "nbformat_minor": 2
}
